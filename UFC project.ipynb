{
 "cells": [
  {
   "cell_type": "markdown",
   "id": "2c5990fd",
   "metadata": {},
   "source": [
    "#                      UFC Events Data : EDA and Data Storytelling Project                                                      "
   ]
  },
  {
   "cell_type": "markdown",
   "id": "ed8dffe7",
   "metadata": {},
   "source": []
  },
  {
   "cell_type": "markdown",
   "id": "79043fcf",
   "metadata": {},
   "source": [
    "#### Link to Dataset : https://www.kaggle.com/datasets/asaniczka/ufc-fighters-statistics"
   ]
  },
  {
   "cell_type": "markdown",
   "id": "d651953c",
   "metadata": {},
   "source": [
    "About the dataset: \n",
    "\n",
    "- Fighter 1, Fighter 2 : Names of the fighters\n",
    "\n",
    "- KD : Knockdowns\n",
    "\n",
    "- STR : Significant Strikes Landed \n",
    "\n",
    "- SUB : Submission attempts\n",
    "\n",
    "- TD : Takedowns\n",
    "\n",
    "- Method : Method of victory\n",
    "\n",
    "- Round : Round of victory/finish\n",
    "\n",
    "- Time : Duration of fight in minutes\n",
    "\n",
    "- Winner : Name of winner\n",
    "\n",
    "- Event Name, Date, Location : details of event\n",
    "\n",
    "________________________________________________________________________________________________________________________________"
   ]
  },
  {
   "cell_type": "markdown",
   "id": "8e1cf923",
   "metadata": {},
   "source": []
  },
  {
   "cell_type": "markdown",
   "id": "bd199d14",
   "metadata": {},
   "source": [
    "---"
   ]
  },
  {
   "cell_type": "markdown",
   "id": "375f31a3",
   "metadata": {},
   "source": [
    " - Importing all required libraries :"
   ]
  },
  {
   "cell_type": "code",
   "execution_count": 1,
   "id": "9bf2ade3",
   "metadata": {},
   "outputs": [],
   "source": [
    "import pandas as pd  #Data wrangling\n",
    "import numpy as np  # Math/data ops\n",
    "import matplotlib.pyplot as plt #data vis\n",
    "import seaborn as sns #data vis- pandas\n",
    "import calendar"
   ]
  },
  {
   "cell_type": "markdown",
   "id": "c34446b3",
   "metadata": {},
   "source": [
    "## Loading the dataset :"
   ]
  },
  {
   "cell_type": "code",
   "execution_count": 2,
   "id": "9fcfbb9a",
   "metadata": {},
   "outputs": [],
   "source": [
    "ufc_events_data=pd.read_csv(r\"C:\\Users\\Asus\\Desktop\\CODE\\AllProjects\\UFC-\\UFC Events Data (1993-2023)\\ufc-events-data.csv\")\n",
    "\n",
    "data = ufc_events_data.copy()"
   ]
  },
  {
   "cell_type": "markdown",
   "id": "de131230",
   "metadata": {},
   "source": [
    "### Peeking at the the dataset :"
   ]
  },
  {
   "cell_type": "code",
   "execution_count": 3,
   "id": "37bdc021",
   "metadata": {},
   "outputs": [
    {
     "data": {
      "text/html": [
       "<div>\n",
       "<style scoped>\n",
       "    .dataframe tbody tr th:only-of-type {\n",
       "        vertical-align: middle;\n",
       "    }\n",
       "\n",
       "    .dataframe tbody tr th {\n",
       "        vertical-align: top;\n",
       "    }\n",
       "\n",
       "    .dataframe thead th {\n",
       "        text-align: right;\n",
       "    }\n",
       "</style>\n",
       "<table border=\"1\" class=\"dataframe\">\n",
       "  <thead>\n",
       "    <tr style=\"text-align: right;\">\n",
       "      <th></th>\n",
       "      <th>Location</th>\n",
       "      <th>Fighter 1</th>\n",
       "      <th>Fighter 2</th>\n",
       "      <th>Fighter_1_KD</th>\n",
       "      <th>Fighter_2_KD</th>\n",
       "      <th>Fighter_1_STR</th>\n",
       "      <th>Fighter_2_STR</th>\n",
       "      <th>Fighter_1_TD</th>\n",
       "      <th>Fighter_2_TD</th>\n",
       "      <th>Fighter_1_SUB</th>\n",
       "      <th>Fighter_2_SUB</th>\n",
       "      <th>Weight_Class</th>\n",
       "      <th>Method</th>\n",
       "      <th>Round</th>\n",
       "      <th>Time</th>\n",
       "      <th>Event Name</th>\n",
       "      <th>Date</th>\n",
       "      <th>Winner</th>\n",
       "    </tr>\n",
       "  </thead>\n",
       "  <tbody>\n",
       "    <tr>\n",
       "      <th>0</th>\n",
       "      <td>Austin, Texas, USA</td>\n",
       "      <td>Arman Tsarukyan</td>\n",
       "      <td>Beneil Dariush</td>\n",
       "      <td>1.0</td>\n",
       "      <td>0.0</td>\n",
       "      <td>8.0</td>\n",
       "      <td>2.0</td>\n",
       "      <td>0.0</td>\n",
       "      <td>0.0</td>\n",
       "      <td>0.0</td>\n",
       "      <td>0.0</td>\n",
       "      <td>Lightweight</td>\n",
       "      <td>KO/TKO Punch</td>\n",
       "      <td>1.0</td>\n",
       "      <td>1:04</td>\n",
       "      <td>UFC Fight Night</td>\n",
       "      <td>2-Dec-23</td>\n",
       "      <td>Arman Tsarukyan</td>\n",
       "    </tr>\n",
       "    <tr>\n",
       "      <th>1</th>\n",
       "      <td>Austin, Texas, USA</td>\n",
       "      <td>Jalin Turner</td>\n",
       "      <td>Bobby Green</td>\n",
       "      <td>1.0</td>\n",
       "      <td>0.0</td>\n",
       "      <td>33.0</td>\n",
       "      <td>15.0</td>\n",
       "      <td>0.0</td>\n",
       "      <td>0.0</td>\n",
       "      <td>0.0</td>\n",
       "      <td>0.0</td>\n",
       "      <td>Lightweight</td>\n",
       "      <td>KO/TKO Punches</td>\n",
       "      <td>1.0</td>\n",
       "      <td>2:49</td>\n",
       "      <td>UFC Fight Night</td>\n",
       "      <td>2-Dec-23</td>\n",
       "      <td>Jalin Turner</td>\n",
       "    </tr>\n",
       "    <tr>\n",
       "      <th>2</th>\n",
       "      <td>Austin, Texas, USA</td>\n",
       "      <td>Deiveson Figueiredo</td>\n",
       "      <td>Rob Font</td>\n",
       "      <td>0.0</td>\n",
       "      <td>0.0</td>\n",
       "      <td>45.0</td>\n",
       "      <td>46.0</td>\n",
       "      <td>4.0</td>\n",
       "      <td>0.0</td>\n",
       "      <td>0.0</td>\n",
       "      <td>0.0</td>\n",
       "      <td>Bantamweight</td>\n",
       "      <td>U-DEC</td>\n",
       "      <td>3.0</td>\n",
       "      <td>5:00</td>\n",
       "      <td>UFC Fight Night</td>\n",
       "      <td>2-Dec-23</td>\n",
       "      <td>Deiveson Figueiredo</td>\n",
       "    </tr>\n",
       "    <tr>\n",
       "      <th>3</th>\n",
       "      <td>Austin, Texas, USA</td>\n",
       "      <td>Sean Brady</td>\n",
       "      <td>Kelvin Gastelum</td>\n",
       "      <td>0.0</td>\n",
       "      <td>0.0</td>\n",
       "      <td>14.0</td>\n",
       "      <td>18.0</td>\n",
       "      <td>5.0</td>\n",
       "      <td>0.0</td>\n",
       "      <td>3.0</td>\n",
       "      <td>0.0</td>\n",
       "      <td>Welterweight</td>\n",
       "      <td>SUB Kimura</td>\n",
       "      <td>3.0</td>\n",
       "      <td>1:43</td>\n",
       "      <td>UFC Fight Night</td>\n",
       "      <td>2-Dec-23</td>\n",
       "      <td>Sean Brady</td>\n",
       "    </tr>\n",
       "    <tr>\n",
       "      <th>4</th>\n",
       "      <td>Austin, Texas, USA</td>\n",
       "      <td>Joaquim Silva</td>\n",
       "      <td>Clay Guida</td>\n",
       "      <td>0.0</td>\n",
       "      <td>0.0</td>\n",
       "      <td>46.0</td>\n",
       "      <td>43.0</td>\n",
       "      <td>2.0</td>\n",
       "      <td>2.0</td>\n",
       "      <td>2.0</td>\n",
       "      <td>0.0</td>\n",
       "      <td>Lightweight</td>\n",
       "      <td>U-DEC</td>\n",
       "      <td>3.0</td>\n",
       "      <td>5:00</td>\n",
       "      <td>UFC Fight Night</td>\n",
       "      <td>2-Dec-23</td>\n",
       "      <td>Joaquim Silva</td>\n",
       "    </tr>\n",
       "    <tr>\n",
       "      <th>5</th>\n",
       "      <td>Austin, Texas, USA</td>\n",
       "      <td>Dustin Stoltzfus</td>\n",
       "      <td>Punahele Soriano</td>\n",
       "      <td>1.0</td>\n",
       "      <td>0.0</td>\n",
       "      <td>64.0</td>\n",
       "      <td>31.0</td>\n",
       "      <td>4.0</td>\n",
       "      <td>0.0</td>\n",
       "      <td>1.0</td>\n",
       "      <td>0.0</td>\n",
       "      <td>Middleweight</td>\n",
       "      <td>SUB Rear Naked Choke</td>\n",
       "      <td>2.0</td>\n",
       "      <td>4:10</td>\n",
       "      <td>UFC Fight Night</td>\n",
       "      <td>2-Dec-23</td>\n",
       "      <td>Dustin Stoltzfus</td>\n",
       "    </tr>\n",
       "    <tr>\n",
       "      <th>6</th>\n",
       "      <td>Austin, Texas, USA</td>\n",
       "      <td>Miesha Tate</td>\n",
       "      <td>Julia Avila</td>\n",
       "      <td>0.0</td>\n",
       "      <td>0.0</td>\n",
       "      <td>32.0</td>\n",
       "      <td>3.0</td>\n",
       "      <td>4.0</td>\n",
       "      <td>0.0</td>\n",
       "      <td>1.0</td>\n",
       "      <td>0.0</td>\n",
       "      <td>Women's Bantamweight</td>\n",
       "      <td>SUB Rear Naked Choke</td>\n",
       "      <td>3.0</td>\n",
       "      <td>1:15</td>\n",
       "      <td>UFC Fight Night</td>\n",
       "      <td>2-Dec-23</td>\n",
       "      <td>Miesha Tate</td>\n",
       "    </tr>\n",
       "    <tr>\n",
       "      <th>7</th>\n",
       "      <td>Austin, Texas, USA</td>\n",
       "      <td>Cody Brundage</td>\n",
       "      <td>Zach Reese</td>\n",
       "      <td>0.0</td>\n",
       "      <td>0.0</td>\n",
       "      <td>9.0</td>\n",
       "      <td>4.0</td>\n",
       "      <td>1.0</td>\n",
       "      <td>0.0</td>\n",
       "      <td>0.0</td>\n",
       "      <td>1.0</td>\n",
       "      <td>Middleweight</td>\n",
       "      <td>KO/TKO Slam</td>\n",
       "      <td>1.0</td>\n",
       "      <td>1:49</td>\n",
       "      <td>UFC Fight Night</td>\n",
       "      <td>2-Dec-23</td>\n",
       "      <td>Cody Brundage</td>\n",
       "    </tr>\n",
       "  </tbody>\n",
       "</table>\n",
       "</div>"
      ],
      "text/plain": [
       "             Location            Fighter 1         Fighter 2  Fighter_1_KD  \\\n",
       "0  Austin, Texas, USA      Arman Tsarukyan    Beneil Dariush           1.0   \n",
       "1  Austin, Texas, USA         Jalin Turner       Bobby Green           1.0   \n",
       "2  Austin, Texas, USA  Deiveson Figueiredo          Rob Font           0.0   \n",
       "3  Austin, Texas, USA           Sean Brady   Kelvin Gastelum           0.0   \n",
       "4  Austin, Texas, USA        Joaquim Silva        Clay Guida           0.0   \n",
       "5  Austin, Texas, USA     Dustin Stoltzfus  Punahele Soriano           1.0   \n",
       "6  Austin, Texas, USA          Miesha Tate       Julia Avila           0.0   \n",
       "7  Austin, Texas, USA        Cody Brundage        Zach Reese           0.0   \n",
       "\n",
       "   Fighter_2_KD  Fighter_1_STR  Fighter_2_STR  Fighter_1_TD  Fighter_2_TD  \\\n",
       "0           0.0            8.0            2.0           0.0           0.0   \n",
       "1           0.0           33.0           15.0           0.0           0.0   \n",
       "2           0.0           45.0           46.0           4.0           0.0   \n",
       "3           0.0           14.0           18.0           5.0           0.0   \n",
       "4           0.0           46.0           43.0           2.0           2.0   \n",
       "5           0.0           64.0           31.0           4.0           0.0   \n",
       "6           0.0           32.0            3.0           4.0           0.0   \n",
       "7           0.0            9.0            4.0           1.0           0.0   \n",
       "\n",
       "   Fighter_1_SUB  Fighter_2_SUB          Weight_Class                Method  \\\n",
       "0            0.0            0.0           Lightweight          KO/TKO Punch   \n",
       "1            0.0            0.0           Lightweight        KO/TKO Punches   \n",
       "2            0.0            0.0          Bantamweight                 U-DEC   \n",
       "3            3.0            0.0          Welterweight            SUB Kimura   \n",
       "4            2.0            0.0           Lightweight                 U-DEC   \n",
       "5            1.0            0.0          Middleweight  SUB Rear Naked Choke   \n",
       "6            1.0            0.0  Women's Bantamweight  SUB Rear Naked Choke   \n",
       "7            0.0            1.0          Middleweight           KO/TKO Slam   \n",
       "\n",
       "   Round  Time       Event Name      Date               Winner  \n",
       "0    1.0  1:04  UFC Fight Night  2-Dec-23      Arman Tsarukyan  \n",
       "1    1.0  2:49  UFC Fight Night  2-Dec-23         Jalin Turner  \n",
       "2    3.0  5:00  UFC Fight Night  2-Dec-23  Deiveson Figueiredo  \n",
       "3    3.0  1:43  UFC Fight Night  2-Dec-23           Sean Brady  \n",
       "4    3.0  5:00  UFC Fight Night  2-Dec-23        Joaquim Silva  \n",
       "5    2.0  4:10  UFC Fight Night  2-Dec-23     Dustin Stoltzfus  \n",
       "6    3.0  1:15  UFC Fight Night  2-Dec-23          Miesha Tate  \n",
       "7    1.0  1:49  UFC Fight Night  2-Dec-23        Cody Brundage  "
      ]
     },
     "execution_count": 3,
     "metadata": {},
     "output_type": "execute_result"
    }
   ],
   "source": [
    "data.head(8)"
   ]
  },
  {
   "cell_type": "markdown",
   "id": "7548054d",
   "metadata": {},
   "source": [
    "- Checking for null values :\n",
    "\n",
    "* Most pandas functions return Series. "
   ]
  },
  {
   "cell_type": "code",
   "execution_count": 4,
   "id": "4d15b1a0",
   "metadata": {},
   "outputs": [
    {
     "data": {
      "text/plain": [
       "Location         7417\n",
       "Fighter 1        7417\n",
       "Fighter 2        7417\n",
       "Fighter_1_KD     7417\n",
       "Fighter_2_KD     7417\n",
       "Fighter_1_STR    7417\n",
       "Fighter_2_STR    7417\n",
       "Fighter_1_TD     7417\n",
       "Fighter_2_TD     7417\n",
       "Fighter_1_SUB    7417\n",
       "Fighter_2_SUB    7417\n",
       "Weight_Class     7417\n",
       "Method           7417\n",
       "Round            7417\n",
       "Time             7417\n",
       "Event Name       7417\n",
       "Date             7417\n",
       "Winner           7417\n",
       "dtype: int64"
      ]
     },
     "execution_count": 4,
     "metadata": {},
     "output_type": "execute_result"
    }
   ],
   "source": [
    "data.isnull().count()"
   ]
  },
  {
   "cell_type": "markdown",
   "id": "90b7b938",
   "metadata": {},
   "source": [
    "## We will drop all null valued entries :"
   ]
  },
  {
   "cell_type": "code",
   "execution_count": 5,
   "id": "367a7f5e",
   "metadata": {},
   "outputs": [],
   "source": [
    "data = data.dropna()"
   ]
  },
  {
   "cell_type": "markdown",
   "id": "3e51a97b",
   "metadata": {},
   "source": [
    "- Describing the dataset :"
   ]
  },
  {
   "cell_type": "code",
   "execution_count": 6,
   "id": "d2e62d2e",
   "metadata": {},
   "outputs": [
    {
     "data": {
      "text/html": [
       "<div>\n",
       "<style scoped>\n",
       "    .dataframe tbody tr th:only-of-type {\n",
       "        vertical-align: middle;\n",
       "    }\n",
       "\n",
       "    .dataframe tbody tr th {\n",
       "        vertical-align: top;\n",
       "    }\n",
       "\n",
       "    .dataframe thead th {\n",
       "        text-align: right;\n",
       "    }\n",
       "</style>\n",
       "<table border=\"1\" class=\"dataframe\">\n",
       "  <thead>\n",
       "    <tr style=\"text-align: right;\">\n",
       "      <th></th>\n",
       "      <th>Fighter_1_KD</th>\n",
       "      <th>Fighter_2_KD</th>\n",
       "      <th>Fighter_1_STR</th>\n",
       "      <th>Fighter_2_STR</th>\n",
       "      <th>Fighter_1_TD</th>\n",
       "      <th>Fighter_2_TD</th>\n",
       "      <th>Fighter_1_SUB</th>\n",
       "      <th>Fighter_2_SUB</th>\n",
       "      <th>Round</th>\n",
       "    </tr>\n",
       "  </thead>\n",
       "  <tbody>\n",
       "    <tr>\n",
       "      <th>count</th>\n",
       "      <td>7412.000000</td>\n",
       "      <td>7412.000000</td>\n",
       "      <td>7412.000000</td>\n",
       "      <td>7412.000000</td>\n",
       "      <td>7412.000000</td>\n",
       "      <td>7412.000000</td>\n",
       "      <td>7412.000000</td>\n",
       "      <td>7412.000000</td>\n",
       "      <td>7412.000000</td>\n",
       "    </tr>\n",
       "    <tr>\n",
       "      <th>mean</th>\n",
       "      <td>0.366972</td>\n",
       "      <td>0.063546</td>\n",
       "      <td>43.123314</td>\n",
       "      <td>28.561657</td>\n",
       "      <td>1.452105</td>\n",
       "      <td>0.666352</td>\n",
       "      <td>0.532110</td>\n",
       "      <td>0.250540</td>\n",
       "      <td>2.338505</td>\n",
       "    </tr>\n",
       "    <tr>\n",
       "      <th>std</th>\n",
       "      <td>0.607362</td>\n",
       "      <td>0.268197</td>\n",
       "      <td>34.396949</td>\n",
       "      <td>26.934822</td>\n",
       "      <td>1.981019</td>\n",
       "      <td>1.186660</td>\n",
       "      <td>0.939354</td>\n",
       "      <td>0.689156</td>\n",
       "      <td>1.013716</td>\n",
       "    </tr>\n",
       "    <tr>\n",
       "      <th>min</th>\n",
       "      <td>0.000000</td>\n",
       "      <td>0.000000</td>\n",
       "      <td>0.000000</td>\n",
       "      <td>0.000000</td>\n",
       "      <td>0.000000</td>\n",
       "      <td>0.000000</td>\n",
       "      <td>0.000000</td>\n",
       "      <td>0.000000</td>\n",
       "      <td>1.000000</td>\n",
       "    </tr>\n",
       "    <tr>\n",
       "      <th>25%</th>\n",
       "      <td>0.000000</td>\n",
       "      <td>0.000000</td>\n",
       "      <td>17.000000</td>\n",
       "      <td>8.000000</td>\n",
       "      <td>0.000000</td>\n",
       "      <td>0.000000</td>\n",
       "      <td>0.000000</td>\n",
       "      <td>0.000000</td>\n",
       "      <td>1.000000</td>\n",
       "    </tr>\n",
       "    <tr>\n",
       "      <th>50%</th>\n",
       "      <td>0.000000</td>\n",
       "      <td>0.000000</td>\n",
       "      <td>36.000000</td>\n",
       "      <td>22.000000</td>\n",
       "      <td>1.000000</td>\n",
       "      <td>0.000000</td>\n",
       "      <td>0.000000</td>\n",
       "      <td>0.000000</td>\n",
       "      <td>3.000000</td>\n",
       "    </tr>\n",
       "    <tr>\n",
       "      <th>75%</th>\n",
       "      <td>1.000000</td>\n",
       "      <td>0.000000</td>\n",
       "      <td>61.000000</td>\n",
       "      <td>41.000000</td>\n",
       "      <td>2.000000</td>\n",
       "      <td>1.000000</td>\n",
       "      <td>1.000000</td>\n",
       "      <td>0.000000</td>\n",
       "      <td>3.000000</td>\n",
       "    </tr>\n",
       "    <tr>\n",
       "      <th>max</th>\n",
       "      <td>5.000000</td>\n",
       "      <td>3.000000</td>\n",
       "      <td>445.000000</td>\n",
       "      <td>271.000000</td>\n",
       "      <td>21.000000</td>\n",
       "      <td>11.000000</td>\n",
       "      <td>10.000000</td>\n",
       "      <td>7.000000</td>\n",
       "      <td>5.000000</td>\n",
       "    </tr>\n",
       "  </tbody>\n",
       "</table>\n",
       "</div>"
      ],
      "text/plain": [
       "       Fighter_1_KD  Fighter_2_KD  Fighter_1_STR  Fighter_2_STR  Fighter_1_TD  \\\n",
       "count   7412.000000   7412.000000    7412.000000    7412.000000   7412.000000   \n",
       "mean       0.366972      0.063546      43.123314      28.561657      1.452105   \n",
       "std        0.607362      0.268197      34.396949      26.934822      1.981019   \n",
       "min        0.000000      0.000000       0.000000       0.000000      0.000000   \n",
       "25%        0.000000      0.000000      17.000000       8.000000      0.000000   \n",
       "50%        0.000000      0.000000      36.000000      22.000000      1.000000   \n",
       "75%        1.000000      0.000000      61.000000      41.000000      2.000000   \n",
       "max        5.000000      3.000000     445.000000     271.000000     21.000000   \n",
       "\n",
       "       Fighter_2_TD  Fighter_1_SUB  Fighter_2_SUB        Round  \n",
       "count   7412.000000    7412.000000    7412.000000  7412.000000  \n",
       "mean       0.666352       0.532110       0.250540     2.338505  \n",
       "std        1.186660       0.939354       0.689156     1.013716  \n",
       "min        0.000000       0.000000       0.000000     1.000000  \n",
       "25%        0.000000       0.000000       0.000000     1.000000  \n",
       "50%        0.000000       0.000000       0.000000     3.000000  \n",
       "75%        1.000000       1.000000       0.000000     3.000000  \n",
       "max       11.000000      10.000000       7.000000     5.000000  "
      ]
     },
     "execution_count": 6,
     "metadata": {},
     "output_type": "execute_result"
    }
   ],
   "source": [
    "data.describe()"
   ]
  },
  {
   "cell_type": "markdown",
   "id": "a019aecc",
   "metadata": {},
   "source": [
    "DISCRETE-LIKE CATEGORICAL! - Round (1,2,3,4,5)\n",
    "CONTINUOUS DATA : Time (3:47,4:02,1:30"
   ]
  },
  {
   "cell_type": "code",
   "execution_count": null,
   "id": "e2123a21",
   "metadata": {},
   "outputs": [],
   "source": []
  },
  {
   "cell_type": "markdown",
   "id": "54e2d139",
   "metadata": {},
   "source": [
    "- Converting the format of the date entries :"
   ]
  },
  {
   "cell_type": "code",
   "execution_count": 7,
   "id": "111b0ee0",
   "metadata": {},
   "outputs": [],
   "source": [
    "# Convert Date from string to basic date format : datetimeobject\n",
    "\n",
    "data['Date'] =pd.to_datetime(data['Date'], format='%d-%b-%y')\n",
    "\n",
    "# Convert basic datetime objects to a sortable format (YYYY-MM-DD)\n",
    "\n",
    "data['Date'] = data['Date'].dt.strftime('%Y-%m-%d')"
   ]
  },
  {
   "cell_type": "code",
   "execution_count": 8,
   "id": "02da20b7",
   "metadata": {},
   "outputs": [
    {
     "data": {
      "text/plain": [
       "0       2023-12-02\n",
       "1       2023-12-02\n",
       "2       2023-12-02\n",
       "3       2023-12-02\n",
       "4       2023-12-02\n",
       "           ...    \n",
       "7408    1994-03-11\n",
       "7409    1994-03-11\n",
       "7410    1994-03-11\n",
       "7411    1994-03-11\n",
       "7412    1994-03-11\n",
       "Name: Date, Length: 7412, dtype: object"
      ]
     },
     "execution_count": 8,
     "metadata": {},
     "output_type": "execute_result"
    }
   ],
   "source": [
    "data['Date']"
   ]
  },
  {
   "cell_type": "markdown",
   "id": "a21fac11",
   "metadata": {},
   "source": [
    "- <b>Sorting the dataset in ascending order by Date value </b> :"
   ]
  },
  {
   "cell_type": "code",
   "execution_count": 9,
   "id": "c06a0e78",
   "metadata": {},
   "outputs": [
    {
     "name": "stdout",
     "output_type": "stream",
     "text": [
      " ! The range of this dataset is from 2023-12-02  to  1994-03-11\n"
     ]
    }
   ],
   "source": [
    "sorted_data = data.sort_values(by='Date', ascending=True)\n",
    "\n",
    "first_value = sorted_data['Date'][0]\n",
    "\n",
    "last_value = sorted_data['Date'][len(data) - 5] \n",
    "\n",
    "print(\" ! The range of this dataset is from\",first_value,\" to \",last_value)"
   ]
  },
  {
   "cell_type": "markdown",
   "id": "319a9bc2",
   "metadata": {},
   "source": [
    "#### The range of this dataset is from 2023-12-02  to  1994-03-11"
   ]
  },
  {
   "cell_type": "markdown",
   "id": "93ccece0",
   "metadata": {},
   "source": [
    "- Adding a year column for easy calculations :"
   ]
  },
  {
   "cell_type": "code",
   "execution_count": 12,
   "id": "df5659d4",
   "metadata": {},
   "outputs": [],
   "source": [
    "data['Date'] = pd.to_datetime(data['Date'], format='%Y-%m-%d')\n",
    "data['Year'] = data['Date'].dt.year"
   ]
  },
  {
   "cell_type": "markdown",
   "id": "e6286ad2",
   "metadata": {},
   "source": [
    "- Adding a month column :"
   ]
  },
  {
   "cell_type": "code",
   "execution_count": 16,
   "id": "820e149e",
   "metadata": {},
   "outputs": [],
   "source": [
    "# Extract month from 'Date' column\n",
    "data['Month'] = data['Date'].dt.month"
   ]
  },
  {
   "cell_type": "markdown",
   "id": "adc875f6",
   "metadata": {},
   "source": [
    "- <b> Converting Time(bout duration) column values to TimeDelta type </b> :"
   ]
  },
  {
   "cell_type": "code",
   "execution_count": 17,
   "id": "99222b22",
   "metadata": {},
   "outputs": [],
   "source": [
    "data['Time'] = pd.to_timedelta(data['Time'].apply(lambda x: '00:' + x))"
   ]
  },
  {
   "cell_type": "code",
   "execution_count": 18,
   "id": "e5f38b07",
   "metadata": {},
   "outputs": [
    {
     "data": {
      "text/plain": [
       "0      0 days 00:01:04\n",
       "1      0 days 00:02:49\n",
       "2      0 days 00:05:00\n",
       "3      0 days 00:01:43\n",
       "4      0 days 00:05:00\n",
       "             ...      \n",
       "7408   0 days 00:02:50\n",
       "7409   0 days 00:04:52\n",
       "7410   0 days 00:12:13\n",
       "7411   0 days 00:00:58\n",
       "7412   0 days 00:00:20\n",
       "Name: Time, Length: 7412, dtype: timedelta64[ns]"
      ]
     },
     "execution_count": 18,
     "metadata": {},
     "output_type": "execute_result"
    }
   ],
   "source": [
    "data['Time']"
   ]
  },
  {
   "cell_type": "markdown",
   "id": "9b86caa4",
   "metadata": {},
   "source": [
    "- Finding number of unique locations in this dataset :"
   ]
  },
  {
   "cell_type": "code",
   "execution_count": 19,
   "id": "0042c24e",
   "metadata": {},
   "outputs": [
    {
     "data": {
      "text/plain": [
       "Las Vegas, Nevada, USA                        2411\n",
       "Abu Dhabi, Abu Dhabi, United Arab Emirates     196\n",
       "London, England, United Kingdom                170\n",
       "Houston, Texas, USA                            108\n",
       "Newark, New Jersey, USA                        102\n",
       "                                              ... \n",
       "Bossier City, Louisiana, USA                     8\n",
       "San Juan, Puerto Rico                            8\n",
       "Casper, Wyoming, USA                             8\n",
       "Chiba, Japan                                     7\n",
       "Yokohama, Kanagawa, Japan                        7\n",
       "Name: Location, Length: 168, dtype: int64"
      ]
     },
     "execution_count": 19,
     "metadata": {},
     "output_type": "execute_result"
    }
   ],
   "source": [
    "data['Location'].value_counts()"
   ]
  },
  {
   "cell_type": "markdown",
   "id": "e3829dc2",
   "metadata": {},
   "source": [
    "- Adding a column which has the losing fighter name :"
   ]
  },
  {
   "cell_type": "code",
   "execution_count": 20,
   "id": "c166ff7d",
   "metadata": {},
   "outputs": [],
   "source": [
    "data['Loser'] = data.apply(lambda row: row['Fighter 1'] if row['Winner'] == row['Fighter 2'] else row['Fighter 2'], axis=1)"
   ]
  },
  {
   "cell_type": "markdown",
   "id": "dd0ff072",
   "metadata": {},
   "source": [
    "Now let us extract some insights about this dataset."
   ]
  },
  {
   "cell_type": "code",
   "execution_count": null,
   "id": "e78b2e06",
   "metadata": {},
   "outputs": [],
   "source": []
  },
  {
   "cell_type": "code",
   "execution_count": 21,
   "id": "cabe82cc",
   "metadata": {},
   "outputs": [],
   "source": [
    "modi_data=data.copy()"
   ]
  },
  {
   "cell_type": "markdown",
   "id": "cccb1fe1",
   "metadata": {},
   "source": [
    "## Q1. What are the most popular methods of finish and how many bouts have been won by each\n",
    "\n",
    "---"
   ]
  },
  {
   "cell_type": "code",
   "execution_count": 22,
   "id": "3baee694",
   "metadata": {},
   "outputs": [],
   "source": [
    "unique_methods = modi_data['Method'].unique()"
   ]
  },
  {
   "cell_type": "code",
   "execution_count": 23,
   "id": "7ce5b7bd",
   "metadata": {},
   "outputs": [
    {
     "name": "stdout",
     "output_type": "stream",
     "text": [
      "We have 70 unique methods.\n",
      "\n",
      "And Number of victories by:\n",
      "\n",
      " U-DEC                          2609\n",
      "KO/TKO Punches                  914\n",
      "KO/TKO Punch                    812\n",
      "S-DEC                           704\n",
      "SUB Rear Naked Choke            563\n",
      "                               ... \n",
      "Overturned Knee                   1\n",
      "Overturned Rear Naked Choke       1\n",
      "KO/TKO Headbutts                  1\n",
      "KO/TKO Headbutt                   1\n",
      "Overturned D'Arce Choke           1\n",
      "Name: Method, Length: 70, dtype: int64\n"
     ]
    }
   ],
   "source": [
    "print(\"We have\",len(unique_methods),\"unique methods.\\n\")\n",
    "print(\"And Number of victories by:\\n\\n\",modi_data['Method'].value_counts())"
   ]
  },
  {
   "cell_type": "markdown",
   "id": "d8300be7",
   "metadata": {},
   "source": [
    "---\n",
    "- We can see that we have 70 different specific methods with each having own finishing move, let us consider the following basic methods :\n",
    "1. Decision (Unianimous/Split/Majority)\n",
    "2. KO/TKO\n",
    "3. Submission"
   ]
  },
  {
   "cell_type": "markdown",
   "id": "64d9fca0",
   "metadata": {},
   "source": [
    "Now we will calculate the number of victories by the above listed methods.\n",
    "\n",
    "First we'll define a list to track and separately manage every instance."
   ]
  },
  {
   "cell_type": "code",
   "execution_count": 24,
   "id": "07378763",
   "metadata": {},
   "outputs": [],
   "source": [
    "decisions=[]\n",
    "ktkos=[]\n",
    "submissions=[]\n",
    "overturned=[]"
   ]
  },
  {
   "cell_type": "code",
   "execution_count": 25,
   "id": "6126c500",
   "metadata": {},
   "outputs": [],
   "source": [
    "for x in modi_data['Method'] :\n",
    "    if 'KO/TKO' in x:\n",
    "        ktkos.append(x)\n",
    "    elif 'SUB' in x:\n",
    "        submissions.append(x)\n",
    "    elif 'DEC' in x:\n",
    "        decisions.append(x)\n",
    "    elif 'Overturned' in x:\n",
    "        overturned.append(x)        "
   ]
  },
  {
   "cell_type": "markdown",
   "id": "1da47df0",
   "metadata": {},
   "source": [
    "Now, we can examine each method separately."
   ]
  },
  {
   "cell_type": "markdown",
   "id": "4e9ce45c",
   "metadata": {},
   "source": [
    "### First, we will we see Decisions."
   ]
  },
  {
   "cell_type": "code",
   "execution_count": 26,
   "id": "868d696e",
   "metadata": {},
   "outputs": [
    {
     "data": {
      "text/plain": [
       "U-DEC    2609\n",
       "S-DEC     704\n",
       "M-DEC      91\n",
       "Name: Decision, dtype: int64"
      ]
     },
     "execution_count": 26,
     "metadata": {},
     "output_type": "execute_result"
    }
   ],
   "source": [
    "all_decs = pd.DataFrame(decisions, columns=['Decision'])\n",
    "all_decs['Decision'].value_counts()   "
   ]
  },
  {
   "cell_type": "markdown",
   "id": "205411eb",
   "metadata": {},
   "source": [
    "### Next, we will see Submissions"
   ]
  },
  {
   "cell_type": "code",
   "execution_count": 27,
   "id": "1dc46453",
   "metadata": {},
   "outputs": [
    {
     "name": "stdout",
     "output_type": "stream",
     "text": [
      "SUB Rear Naked Choke          563\n",
      "SUB Guillotine Choke          262\n",
      "SUB Armbar                    177\n",
      "SUB Arm Triangle              104\n",
      "SUB Triangle Choke             92\n",
      "SUB Kimura                     41\n",
      "SUB D'Arce Choke               39\n",
      "SUB Anaconda Choke             29\n",
      "SUB Kneebar                    20\n",
      "SUB Heel Hook                  18\n",
      "SUB Neck Crank                 14\n",
      "SUB Triangle Armbar            11\n",
      "SUB Ankle Lock                  9\n",
      "SUB Injury                      8\n",
      "SUB Von Flue Choke              8\n",
      "SUB Keylock                     8\n",
      "SUB Bulldog Choke               7\n",
      "SUB Scarf Hold                  7\n",
      "SUB Other                       6\n",
      "SUB Forearm Choke               5\n",
      "SUB North-South Choke           5\n",
      "SUB Inverted Triangle           4\n",
      "SUB Ezekiel Choke               4\n",
      "SUB Suloev Stretch              3\n",
      "SUB Straight Armbar             3\n",
      "SUB Other - Lock                3\n",
      "SUB Twister                     3\n",
      "SUB Schultz Front Headlock      2\n",
      "SUB Peruvian Necktie            2\n",
      "SUB Omoplata                    2\n",
      "SUB Calf Slicer                 2\n",
      "SUB Other - Choke               2\n",
      "SUB Gi Choke                    2\n",
      "SUB Pace/Pillory Choke          1\n",
      "SUB Toe Hold                    1\n",
      "SUB Shoulder Choke              1\n",
      "Name: Submissions, dtype: int64\n"
     ]
    }
   ],
   "source": [
    "all_submissions = pd.DataFrame(submissions,columns=['Submissions'])\n",
    "print(all_submissions['Submissions'].value_counts())"
   ]
  },
  {
   "cell_type": "markdown",
   "id": "5ae30664",
   "metadata": {},
   "source": [
    "### Now, we will see knockouts."
   ]
  },
  {
   "cell_type": "code",
   "execution_count": 28,
   "id": "1d059dad",
   "metadata": {},
   "outputs": [
    {
     "data": {
      "text/plain": [
       "KO/TKO Punches                914\n",
       "KO/TKO Punch                  812\n",
       "KO/TKO Kick                   181\n",
       "KO/TKO                        149\n",
       "KO/TKO Elbows                 124\n",
       "KO/TKO Knee                    98\n",
       "KO/TKO Elbow                   36\n",
       "KO/TKO Knees                   35\n",
       "KO/TKO Flying Knee             34\n",
       "KO/TKO Slam                    14\n",
       "KO/TKO Kicks                   10\n",
       "KO/TKO Spinning Back Kick      10\n",
       "KO/TKO Spinning Back Fist      10\n",
       "KO/TKO Spinning Back Elbow      7\n",
       "KO/TKO Headbutts                1\n",
       "KO/TKO Headbutt                 1\n",
       "Name: Knockout, dtype: int64"
      ]
     },
     "execution_count": 28,
     "metadata": {},
     "output_type": "execute_result"
    }
   ],
   "source": [
    "ktkos = pd.DataFrame(ktkos, columns=['Knockout'])\n",
    "ktkos['Knockout'].value_counts()   "
   ]
  },
  {
   "cell_type": "markdown",
   "id": "12066827",
   "metadata": {},
   "source": [
    "---"
   ]
  },
  {
   "cell_type": "markdown",
   "id": "72ade1ab",
   "metadata": {},
   "source": [
    "## Q2. What round did most fights end in ?"
   ]
  },
  {
   "cell_type": "code",
   "execution_count": 29,
   "id": "c8e4ed63",
   "metadata": {},
   "outputs": [
    {
     "name": "stdout",
     "output_type": "stream",
     "text": [
      "3.0    3735\n",
      "1.0    2123\n",
      "2.0    1241\n",
      "5.0     271\n",
      "4.0      42\n",
      "Name: Round, dtype: int64\n"
     ]
    }
   ],
   "source": [
    "print(modi_data['Round'].value_counts())"
   ]
  },
  {
   "cell_type": "markdown",
   "id": "4f47c2f8",
   "metadata": {},
   "source": [
    "---"
   ]
  },
  {
   "cell_type": "markdown",
   "id": "c1201486",
   "metadata": {},
   "source": [
    "## Q3. What is the most popular method of victory for each weight class ?"
   ]
  },
  {
   "cell_type": "code",
   "execution_count": 30,
   "id": "f89c55dd",
   "metadata": {},
   "outputs": [
    {
     "name": "stdout",
     "output_type": "stream",
     "text": [
      "['Lightweight' 'Bantamweight' 'Welterweight' 'Middleweight'\n",
      " \"Women's Bantamweight\" 'Light Heavyweight' \"Women's Flyweight\"\n",
      " \"Women's Strawweight\" 'Featherweight' 'Heavyweight' 'Flyweight'\n",
      " 'Catch Weight' \"Women's Featherweight\" 'Super Heavyweight' 'Open Weight']\n"
     ]
    }
   ],
   "source": [
    "weightcls = modi_data['Weight_Class'].unique()\n",
    "\n",
    "print(weightcls)"
   ]
  },
  {
   "cell_type": "code",
   "execution_count": 31,
   "id": "4b5d50ec",
   "metadata": {},
   "outputs": [
    {
     "name": "stdout",
     "output_type": "stream",
     "text": [
      "For Lightweight division :\n",
      "\n",
      " U-DEC                          464\n",
      "KO/TKO Punch                   134\n",
      "SUB Rear Naked Choke           134\n",
      "S-DEC                          129\n",
      "KO/TKO Punches                 122\n",
      "SUB Guillotine Choke            50\n",
      "KO/TKO Kick                     35\n",
      "KO/TKO                          29\n",
      "SUB Armbar                      26\n",
      "M-DEC                           21\n",
      "SUB Triangle Choke              20\n",
      "KO/TKO Knee                     14\n",
      "KO/TKO Elbows                   13\n",
      "SUB D'Arce Choke                11\n",
      "SUB Arm Triangle                10\n",
      "SUB Kimura                       9\n",
      "CNC                              7\n",
      "KO/TKO Knees                     5\n",
      "KO/TKO Flying Knee               5\n",
      "Overturned                       4\n",
      "SUB Kneebar                      4\n",
      "KO/TKO Elbow                     3\n",
      "KO/TKO Kicks                     3\n",
      "SUB Ankle Lock                   3\n",
      "KO/TKO Spinning Back Fist        3\n",
      "SUB Inverted Triangle            3\n",
      "KO/TKO Slam                      3\n",
      "SUB Anaconda Choke               3\n",
      "Overturned Guillotine Choke      2\n",
      "KO/TKO Spinning Back Kick        2\n",
      "SUB Heel Hook                    2\n",
      "SUB North-South Choke            2\n",
      "SUB Injury                       2\n",
      "SUB Triangle Armbar              2\n",
      "SUB Straight Armbar              1\n",
      "SUB Other - Choke                1\n",
      "SUB Shoulder Choke               1\n",
      "SUB Schultz Front Headlock       1\n",
      "SUB Bulldog Choke                1\n",
      "DQ Rear Naked Choke              1\n",
      "SUB Von Flue Choke               1\n",
      "DQ                               1\n",
      "SUB Neck Crank                   1\n",
      "Name: Method, dtype: int64 \n",
      "\n",
      "\n",
      "For Bantamweight division :\n",
      "\n",
      " U-DEC                          230\n",
      "S-DEC                           75\n",
      "KO/TKO Punches                  67\n",
      "KO/TKO Punch                    67\n",
      "SUB Rear Naked Choke            50\n",
      "SUB Guillotine Choke            26\n",
      "SUB Armbar                      13\n",
      "KO/TKO Kick                     13\n",
      "SUB Arm Triangle                11\n",
      "SUB Triangle Choke               8\n",
      "M-DEC                            8\n",
      "KO/TKO Elbows                    7\n",
      "KO/TKO Knee                      6\n",
      "CNC                              5\n",
      "Overturned                       4\n",
      "KO/TKO Flying Knee               4\n",
      "SUB Triangle Armbar              3\n",
      "SUB Anaconda Choke               3\n",
      "KO/TKO                           3\n",
      "SUB Heel Hook                    2\n",
      "SUB D'Arce Choke                 2\n",
      "KO/TKO Spinning Back Kick        2\n",
      "KO/TKO Elbow                     2\n",
      "SUB Kimura                       2\n",
      "Overturned Punch                 2\n",
      "KO/TKO Spinning Back Fist        2\n",
      "SUB Neck Crank                   2\n",
      "KO/TKO Knees                     2\n",
      "DQ                               1\n",
      "Overturned Arm Triangle          1\n",
      "SUB Suloev Stretch               1\n",
      "SUB Inverted Triangle            1\n",
      "SUB Twister                      1\n",
      "SUB Calf Slicer                  1\n",
      "KO/TKO Spinning Back Elbow       1\n",
      "KO/TKO Kicks                     1\n",
      "SUB Kneebar                      1\n",
      "SUB Bulldog Choke                1\n",
      "Overturned Guillotine Choke      1\n",
      "SUB Pace/Pillory Choke           1\n",
      "Name: Method, dtype: int64 \n",
      "\n",
      "\n",
      "For Welterweight division :\n",
      "\n",
      " U-DEC                          451\n",
      "KO/TKO Punch                   137\n",
      "KO/TKO Punches                 131\n",
      "S-DEC                          123\n",
      "SUB Rear Naked Choke            89\n",
      "SUB Guillotine Choke            44\n",
      "KO/TKO Kick                     36\n",
      "SUB Armbar                      27\n",
      "KO/TKO Knee                     25\n",
      "KO/TKO                          25\n",
      "SUB Arm Triangle                19\n",
      "KO/TKO Elbows                   17\n",
      "M-DEC                           16\n",
      "SUB Triangle Choke              15\n",
      "SUB D'Arce Choke                10\n",
      "KO/TKO Flying Knee               9\n",
      "SUB Kimura                       8\n",
      "SUB Anaconda Choke               7\n",
      "KO/TKO Elbow                     7\n",
      "Overturned                       7\n",
      "KO/TKO Knees                     7\n",
      "DQ                               5\n",
      "SUB Injury                       5\n",
      "KO/TKO Slam                      4\n",
      "SUB Bulldog Choke                3\n",
      "SUB Kneebar                      2\n",
      "SUB Ankle Lock                   2\n",
      "CNC                              2\n",
      "KO/TKO Spinning Back Elbow       2\n",
      "SUB Neck Crank                   2\n",
      "Overturned Punch                 1\n",
      "KO/TKO Spinning Back Kick        1\n",
      "SUB North-South Choke            1\n",
      "Overturned Rear Naked Choke      1\n",
      "SUB Omoplata                     1\n",
      "SUB Heel Hook                    1\n",
      "SUB Suloev Stretch               1\n",
      "SUB Schultz Front Headlock       1\n",
      "SUB Von Flue Choke               1\n",
      "KO/TKO Spinning Back Fist        1\n",
      "Name: Method, dtype: int64 \n",
      "\n",
      "\n",
      "For Middleweight division :\n",
      "\n",
      " U-DEC                        297\n",
      "KO/TKO Punches               147\n",
      "KO/TKO Punch                 103\n",
      "S-DEC                         81\n",
      "SUB Rear Naked Choke          74\n",
      "SUB Guillotine Choke          48\n",
      "KO/TKO Kick                   34\n",
      "KO/TKO                        28\n",
      "SUB Arm Triangle              23\n",
      "SUB Armbar                    21\n",
      "KO/TKO Elbows                 21\n",
      "SUB Triangle Choke            20\n",
      "KO/TKO Knee                   13\n",
      "KO/TKO Knees                   8\n",
      "KO/TKO Elbow                   7\n",
      "M-DEC                          6\n",
      "SUB Anaconda Choke             5\n",
      "DQ                             5\n",
      "KO/TKO Slam                    5\n",
      "KO/TKO Flying Knee             5\n",
      "SUB Heel Hook                  5\n",
      "SUB Kimura                     4\n",
      "KO/TKO Spinning Back Kick      4\n",
      "SUB Neck Crank                 3\n",
      "CNC                            3\n",
      "SUB Kneebar                    3\n",
      "SUB D'Arce Choke               3\n",
      "Overturned                     3\n",
      "Overturned Punches             1\n",
      "Overturned Punch               1\n",
      "SUB Injury                     1\n",
      "SUB Ankle Lock                 1\n",
      "Overturned Elbows              1\n",
      "SUB Triangle Armbar            1\n",
      "SUB Keylock                    1\n",
      "SUB Peruvian Necktie           1\n",
      "SUB Other - Lock               1\n",
      "SUB Scarf Hold                 1\n",
      "Name: Method, dtype: int64 \n",
      "\n",
      "\n",
      "For Women's Bantamweight division :\n",
      "\n",
      " U-DEC                          89\n",
      "S-DEC                          25\n",
      "KO/TKO Punches                 17\n",
      "SUB Armbar                     10\n",
      "SUB Rear Naked Choke           10\n",
      "KO/TKO Elbows                   9\n",
      "KO/TKO Punch                    8\n",
      "KO/TKO Kick                     4\n",
      "M-DEC                           3\n",
      "KO/TKO Knee                     3\n",
      "SUB Arm Triangle                3\n",
      "SUB Kneebar                     2\n",
      "SUB Guillotine Choke            2\n",
      "SUB Triangle Choke              2\n",
      "KO/TKO                          1\n",
      "SUB Bulldog Choke               1\n",
      "Overturned                      1\n",
      "KO/TKO Elbow                    1\n",
      "KO/TKO Flying Knee              1\n",
      "Overturned Guillotine Choke     1\n",
      "KO/TKO Knees                    1\n",
      "Name: Method, dtype: int64 \n",
      "\n",
      "\n",
      "For Light Heavyweight division :\n",
      "\n",
      " U-DEC                         189\n",
      "KO/TKO Punches                109\n",
      "KO/TKO Punch                  104\n",
      "S-DEC                          50\n",
      "SUB Rear Naked Choke           42\n",
      "SUB Guillotine Choke           20\n",
      "KO/TKO                         18\n",
      "KO/TKO Elbows                  16\n",
      "KO/TKO Knee                    15\n",
      "KO/TKO Kick                    15\n",
      "SUB Arm Triangle               10\n",
      "SUB Armbar                      9\n",
      "SUB Kimura                      9\n",
      "M-DEC                           7\n",
      "Overturned                      7\n",
      "SUB Triangle Choke              7\n",
      "SUB Von Flue Choke              5\n",
      "KO/TKO Knees                    4\n",
      "SUB Anaconda Choke              4\n",
      "KO/TKO Elbow                    3\n",
      "CNC                             3\n",
      "DQ                              3\n",
      "KO/TKO Flying Knee              2\n",
      "KO/TKO Spinning Back Fist       2\n",
      "KO/TKO Spinning Back Elbow      1\n",
      "Overturned Knee                 1\n",
      "SUB Peruvian Necktie            1\n",
      "Overturned Kick                 1\n",
      "SUB Neck Crank                  1\n",
      "SUB Kneebar                     1\n",
      "SUB Keylock                     1\n",
      "KO/TKO Kicks                    1\n",
      "Name: Method, dtype: int64 \n",
      "\n",
      "\n",
      "For Women's Flyweight division :\n",
      "\n",
      " U-DEC                         98\n",
      "S-DEC                         29\n",
      "SUB Rear Naked Choke          19\n",
      "SUB Armbar                    17\n",
      "KO/TKO Punches                16\n",
      "KO/TKO Elbows                  6\n",
      "KO/TKO Punch                   5\n",
      "KO/TKO Kick                    4\n",
      "SUB Guillotine Choke           3\n",
      "KO/TKO                         3\n",
      "M-DEC                          2\n",
      "KO/TKO Spinning Back Elbow     2\n",
      "SUB Kneebar                    1\n",
      "SUB Triangle Armbar            1\n",
      "SUB Kimura                     1\n",
      "SUB Arm Triangle               1\n",
      "SUB D'Arce Choke               1\n",
      "KO/TKO Spinning Back Kick      1\n",
      "SUB Other - Lock               1\n",
      "KO/TKO Knee                    1\n",
      "Name: Method, dtype: int64 \n",
      "\n",
      "\n",
      "For Women's Strawweight division :\n",
      "\n",
      " U-DEC                        144\n",
      "S-DEC                         38\n",
      "SUB Rear Naked Choke          28\n",
      "KO/TKO Punches                19\n",
      "SUB Armbar                    19\n",
      "KO/TKO Punch                   8\n",
      "M-DEC                          5\n",
      "SUB Guillotine Choke           5\n",
      "KO/TKO Kick                    4\n",
      "KO/TKO                         3\n",
      "KO/TKO Elbows                  3\n",
      "SUB Arm Triangle               2\n",
      "SUB Von Flue Choke             1\n",
      "KO/TKO Spinning Back Fist      1\n",
      "DQ                             1\n",
      "SUB Kneebar                    1\n",
      "KO/TKO Elbow                   1\n",
      "KO/TKO Slam                    1\n",
      "SUB D'Arce Choke               1\n",
      "Name: Method, dtype: int64 \n",
      "\n",
      "\n",
      "For Featherweight division :\n",
      "\n",
      " U-DEC                         309\n",
      "KO/TKO Punch                   81\n",
      "S-DEC                          74\n",
      "KO/TKO Punches                 60\n",
      "SUB Rear Naked Choke           45\n",
      "SUB Guillotine Choke           29\n",
      "KO/TKO Kick                    14\n",
      "M-DEC                           9\n",
      "KO/TKO                          9\n",
      "KO/TKO Elbows                   8\n",
      "SUB Arm Triangle                8\n",
      "SUB Triangle Choke              8\n",
      "KO/TKO Knee                     7\n",
      "SUB Anaconda Choke              7\n",
      "SUB D'Arce Choke                5\n",
      "SUB Armbar                      5\n",
      "KO/TKO Flying Knee              5\n",
      "Overturned                      3\n",
      "CNC                             3\n",
      "KO/TKO Elbow                    3\n",
      "SUB Twister                     2\n",
      "SUB Heel Hook                   2\n",
      "SUB Triangle Armbar             2\n",
      "KO/TKO Spinning Back Elbow      1\n",
      "KO/TKO Spinning Back Fist       1\n",
      "Overturned D'Arce Choke         1\n",
      "SUB Suloev Stretch              1\n",
      "KO/TKO Slam                     1\n",
      "Overturned Triangle Choke       1\n",
      "SUB Neck Crank                  1\n",
      "KO/TKO Kicks                    1\n",
      "DQ                              1\n",
      "SUB Kimura                      1\n",
      "SUB North-South Choke           1\n",
      "SUB Calf Slicer                 1\n",
      "Name: Method, dtype: int64 \n",
      "\n",
      "\n",
      "For Heavyweight division :\n",
      "\n",
      " KO/TKO Punches           168\n",
      "U-DEC                    163\n",
      "KO/TKO Punch             124\n",
      "S-DEC                     32\n",
      "SUB Rear Naked Choke      23\n",
      "SUB Armbar                18\n",
      "KO/TKO                    15\n",
      "KO/TKO Elbows             14\n",
      "KO/TKO Kick               14\n",
      "SUB Guillotine Choke      12\n",
      "M-DEC                     12\n",
      "KO/TKO Knee               11\n",
      "SUB Arm Triangle          10\n",
      "KO/TKO Elbow               7\n",
      "Overturned                 7\n",
      "SUB Kimura                 5\n",
      "SUB Scarf Hold             4\n",
      "KO/TKO Knees               4\n",
      "SUB Heel Hook              4\n",
      "DQ                         3\n",
      "SUB Triangle Choke         3\n",
      "KO/TKO Kicks               3\n",
      "SUB Other                  3\n",
      "SUB Keylock                3\n",
      "SUB Ezekiel Choke          3\n",
      "SUB Forearm Choke          2\n",
      "SUB Straight Armbar        2\n",
      "CNC                        2\n",
      "KO/TKO Flying Knee         2\n",
      "SUB D'Arce Choke           2\n",
      "SUB Kneebar                2\n",
      "SUB Omoplata               1\n",
      "SUB North-South Choke      1\n",
      "SUB Neck Crank             1\n",
      "SUB Ankle Lock             1\n",
      "SUB Toe Hold               1\n",
      "SUB Other - Lock           1\n",
      "Overturned Punches         1\n",
      "Name: Method, dtype: int64 \n",
      "\n",
      "\n",
      "For Flyweight division :\n",
      "\n",
      " U-DEC                   129\n",
      "S-DEC                    40\n",
      "SUB Rear Naked Choke     32\n",
      "KO/TKO Punch             32\n",
      "KO/TKO Punches           22\n",
      "SUB Guillotine Choke     13\n",
      "SUB Armbar                6\n",
      "KO/TKO                    6\n",
      "SUB Arm Triangle          5\n",
      "KO/TKO Kick               5\n",
      "SUB Triangle Choke        4\n",
      "KO/TKO Elbows             3\n",
      "KO/TKO Knee               2\n",
      "SUB Neck Crank            2\n",
      "Overturned                2\n",
      "M-DEC                     2\n",
      "SUB Kimura                2\n",
      "SUB Triangle Armbar       1\n",
      "SUB Kneebar               1\n",
      "KO/TKO Flying Knee        1\n",
      "KO/TKO Knees              1\n",
      "KO/TKO Elbow              1\n",
      "Name: Method, dtype: int64 \n",
      "\n",
      "\n",
      "For Catch Weight division :\n",
      "\n",
      " U-DEC                   27\n",
      "KO/TKO Punches          10\n",
      "SUB Rear Naked Choke     6\n",
      "KO/TKO Punch             5\n",
      "SUB D'Arce Choke         4\n",
      "S-DEC                    3\n",
      "SUB Triangle Choke       2\n",
      "KO/TKO Kick              2\n",
      "KO/TKO Knee              1\n",
      "SUB Guillotine Choke     1\n",
      "KO/TKO                   1\n",
      "Overturned Punch         1\n",
      "SUB Armbar               1\n",
      "SUB Heel Hook            1\n",
      "Name: Method, dtype: int64 \n",
      "\n",
      "\n",
      "For Women's Featherweight division :\n",
      "\n",
      " U-DEC                   12\n",
      "S-DEC                    4\n",
      "SUB Rear Naked Choke     3\n",
      "KO/TKO Punches           3\n",
      "SUB Guillotine Choke     1\n",
      "KO/TKO Elbows            1\n",
      "SUB Triangle Armbar      1\n",
      "KO/TKO Punch             1\n",
      "SUB Triangle Choke       1\n",
      "KO/TKO Kick              1\n",
      "KO/TKO Knees             1\n",
      "Name: Method, dtype: int64 \n",
      "\n",
      "\n",
      "For Super Heavyweight division :\n",
      "\n",
      " KO/TKO Elbows    1\n",
      "Name: Method, dtype: int64 \n",
      "\n",
      "\n",
      "For Open Weight division :\n",
      "\n",
      " KO/TKO Punches          23\n",
      "KO/TKO                   8\n",
      "SUB Guillotine Choke     8\n",
      "SUB Rear Naked Choke     8\n",
      "U-DEC                    7\n",
      "SUB Armbar               5\n",
      "KO/TKO Elbows            5\n",
      "KO/TKO Punch             3\n",
      "SUB Forearm Choke        3\n",
      "SUB Other                3\n",
      "SUB Keylock              3\n",
      "SUB Triangle Choke       2\n",
      "SUB Gi Choke             2\n",
      "Other                    2\n",
      "SUB Arm Triangle         2\n",
      "SUB Kneebar              2\n",
      "KO/TKO Knees             2\n",
      "SUB Scarf Hold           2\n",
      "SUB Ankle Lock           2\n",
      "SUB Neck Crank           1\n",
      "KO/TKO Kicks             1\n",
      "S-DEC                    1\n",
      "KO/TKO Headbutt          1\n",
      "SUB Heel Hook            1\n",
      "KO/TKO Headbutts         1\n",
      "KO/TKO Elbow             1\n",
      "SUB Other - Choke        1\n",
      "SUB Bulldog Choke        1\n",
      "SUB Ezekiel Choke        1\n",
      "Name: Method, dtype: int64 \n",
      "\n",
      "\n"
     ]
    }
   ],
   "source": [
    "for x in weightcls:\n",
    "    \n",
    "    filtered_df = modi_data[modi_data['Weight_Class'] == x]\n",
    "    \n",
    "    count_values = filtered_df['Method'].value_counts()\n",
    "    \n",
    "    print(\"For\",x,\"division :\\n\\n\",count_values,\"\\n\\n\")\n"
   ]
  },
  {
   "cell_type": "markdown",
   "id": "122ccbe2",
   "metadata": {},
   "source": [
    "#### For simplicity, let us only print the top 4 methods of victory in each weight class :"
   ]
  },
  {
   "cell_type": "code",
   "execution_count": 32,
   "id": "d3640716",
   "metadata": {},
   "outputs": [
    {
     "name": "stdout",
     "output_type": "stream",
     "text": [
      "For Lightweight division :\n",
      "\n",
      " U-DEC                   464\n",
      "KO/TKO Punch            134\n",
      "SUB Rear Naked Choke    134\n",
      "S-DEC                   129\n",
      "Name: Method, dtype: int64 \n",
      "\n",
      "\n",
      "For Bantamweight division :\n",
      "\n",
      " U-DEC             230\n",
      "S-DEC              75\n",
      "KO/TKO Punches     67\n",
      "KO/TKO Punch       67\n",
      "Name: Method, dtype: int64 \n",
      "\n",
      "\n",
      "For Welterweight division :\n",
      "\n",
      " U-DEC             451\n",
      "KO/TKO Punch      137\n",
      "KO/TKO Punches    131\n",
      "S-DEC             123\n",
      "Name: Method, dtype: int64 \n",
      "\n",
      "\n",
      "For Middleweight division :\n",
      "\n",
      " U-DEC             297\n",
      "KO/TKO Punches    147\n",
      "KO/TKO Punch      103\n",
      "S-DEC              81\n",
      "Name: Method, dtype: int64 \n",
      "\n",
      "\n",
      "For Women's Bantamweight division :\n",
      "\n",
      " U-DEC             89\n",
      "S-DEC             25\n",
      "KO/TKO Punches    17\n",
      "SUB Armbar        10\n",
      "Name: Method, dtype: int64 \n",
      "\n",
      "\n",
      "For Light Heavyweight division :\n",
      "\n",
      " U-DEC             189\n",
      "KO/TKO Punches    109\n",
      "KO/TKO Punch      104\n",
      "S-DEC              50\n",
      "Name: Method, dtype: int64 \n",
      "\n",
      "\n",
      "For Women's Flyweight division :\n",
      "\n",
      " U-DEC                   98\n",
      "S-DEC                   29\n",
      "SUB Rear Naked Choke    19\n",
      "SUB Armbar              17\n",
      "Name: Method, dtype: int64 \n",
      "\n",
      "\n",
      "For Women's Strawweight division :\n",
      "\n",
      " U-DEC                   144\n",
      "S-DEC                    38\n",
      "SUB Rear Naked Choke     28\n",
      "KO/TKO Punches           19\n",
      "Name: Method, dtype: int64 \n",
      "\n",
      "\n",
      "For Featherweight division :\n",
      "\n",
      " U-DEC             309\n",
      "KO/TKO Punch       81\n",
      "S-DEC              74\n",
      "KO/TKO Punches     60\n",
      "Name: Method, dtype: int64 \n",
      "\n",
      "\n",
      "For Heavyweight division :\n",
      "\n",
      " KO/TKO Punches    168\n",
      "U-DEC             163\n",
      "KO/TKO Punch      124\n",
      "S-DEC              32\n",
      "Name: Method, dtype: int64 \n",
      "\n",
      "\n",
      "For Flyweight division :\n",
      "\n",
      " U-DEC                   129\n",
      "S-DEC                    40\n",
      "SUB Rear Naked Choke     32\n",
      "KO/TKO Punch             32\n",
      "Name: Method, dtype: int64 \n",
      "\n",
      "\n",
      "For Catch Weight division :\n",
      "\n",
      " U-DEC                   27\n",
      "KO/TKO Punches          10\n",
      "SUB Rear Naked Choke     6\n",
      "KO/TKO Punch             5\n",
      "Name: Method, dtype: int64 \n",
      "\n",
      "\n",
      "For Women's Featherweight division :\n",
      "\n",
      " U-DEC                   12\n",
      "S-DEC                    4\n",
      "SUB Rear Naked Choke     3\n",
      "KO/TKO Punches           3\n",
      "Name: Method, dtype: int64 \n",
      "\n",
      "\n",
      "For Super Heavyweight division :\n",
      "\n",
      " KO/TKO Elbows    1\n",
      "Name: Method, dtype: int64 \n",
      "\n",
      "\n",
      "For Open Weight division :\n",
      "\n",
      " KO/TKO Punches          23\n",
      "KO/TKO                   8\n",
      "SUB Guillotine Choke     8\n",
      "SUB Rear Naked Choke     8\n",
      "Name: Method, dtype: int64 \n",
      "\n",
      "\n"
     ]
    }
   ],
   "source": [
    "for x in weightcls:\n",
    "    filtered_df = modi_data[modi_data['Weight_Class'] == x]\n",
    "    count_values = filtered_df['Method'].value_counts()\n",
    "    print(\"For\",x,\"division :\\n\\n\",count_values.nlargest(4),\"\\n\\n\")\n"
   ]
  },
  {
   "cell_type": "markdown",
   "id": "c8cd8675",
   "metadata": {},
   "source": [
    "---\n",
    "\n",
    "## Q4. Which weight class has the most KO/TKO wins ?"
   ]
  },
  {
   "cell_type": "markdown",
   "id": "7474911e",
   "metadata": {},
   "source": [
    "Let us create a dictionary to store the number of knockouts in each weight class and arrange it in ascending order."
   ]
  },
  {
   "cell_type": "code",
   "execution_count": 33,
   "id": "cfb9296a",
   "metadata": {},
   "outputs": [],
   "source": [
    "ko_wc={}\n",
    "\n",
    "sub_wc={}\n",
    "\n",
    "\n",
    "for i in weightcls:\n",
    "    ko_wc[i]=0\n",
    "    sub_wc[i]=0\n",
    "    count = modi_data[modi_data['Weight_Class'] == i ]['Method'].value_counts()\n",
    "    for j in count.index :\n",
    "        if 'KO/TKO' in j:\n",
    "            ko_wc[i]+=count[j]\n",
    "        if 'SUB' in j:\n",
    "            sub_wc[i]+=count[j]\n",
    "            \n",
    "            \n",
    "ko_wc = dict(sorted(ko_wc.items(), key=lambda item: item[1]))\n",
    "\n",
    "sub_wc = dict(sorted(sub_wc.items(), key=lambda item: item[1]))"
   ]
  },
  {
   "cell_type": "code",
   "execution_count": 34,
   "id": "d8d559aa",
   "metadata": {},
   "outputs": [
    {
     "name": "stdout",
     "output_type": "stream",
     "text": [
      "The top 3 weight classes with most knockouts are  {'Lightweight': 371, 'Middleweight': 375, 'Welterweight': 402}\n"
     ]
    }
   ],
   "source": [
    "print(\"The top 3 weight classes with most knockouts are \",dict(list(ko_wc.items())[-3:]))"
   ]
  },
  {
   "cell_type": "markdown",
   "id": "b458a9ef",
   "metadata": {},
   "source": [
    "---"
   ]
  },
  {
   "cell_type": "markdown",
   "id": "c1a33021",
   "metadata": {},
   "source": [
    "## Q5. Which weight class has the most submission wins ?"
   ]
  },
  {
   "cell_type": "code",
   "execution_count": 35,
   "id": "01fccd1a",
   "metadata": {},
   "outputs": [
    {
     "name": "stdout",
     "output_type": "stream",
     "text": [
      "The top 3 weight classes with most submissions are  {'Middleweight': 216, 'Welterweight': 239, 'Lightweight': 288}\n"
     ]
    }
   ],
   "source": [
    "print(\"The top 3 weight classes with most submissions are \",dict(list(sub_wc.items())[-3:]))"
   ]
  },
  {
   "cell_type": "markdown",
   "id": "a3e75d5a",
   "metadata": {},
   "source": [
    "---"
   ]
  },
  {
   "cell_type": "markdown",
   "id": "9dc319fb",
   "metadata": {},
   "source": [
    "## Q6. What is the average fight duration ?"
   ]
  },
  {
   "cell_type": "code",
   "execution_count": 36,
   "id": "fb13c34e",
   "metadata": {},
   "outputs": [
    {
     "name": "stdout",
     "output_type": "stream",
     "text": [
      "Average bout duration is 3 : 47\n"
     ]
    }
   ],
   "source": [
    "average_seconds = modi_data['Time'].dt.total_seconds().mean()\n",
    "\n",
    "\n",
    "average_time = pd.Timedelta(seconds=average_seconds)\n",
    "\n",
    "print(\"Average bout duration is\",average_time.components.minutes,\":\",average_time.components.seconds)\n"
   ]
  },
  {
   "cell_type": "markdown",
   "id": "d94b43e2",
   "metadata": {},
   "source": [
    "## Q7. Which fighter has won the most overall ?"
   ]
  },
  {
   "cell_type": "markdown",
   "id": "7b660211",
   "metadata": {},
   "source": [
    "The top 4 fighters in terms of number of victories are :"
   ]
  },
  {
   "cell_type": "code",
   "execution_count": 37,
   "id": "60cd7383",
   "metadata": {},
   "outputs": [
    {
     "name": "stdout",
     "output_type": "stream",
     "text": [
      "Jim Miller         26\n",
      "Andrei Arlovski    24\n",
      "Donald Cerrone     24\n",
      "Demian Maia        22\n",
      "Name: Winner, dtype: int64\n"
     ]
    }
   ],
   "source": [
    "print(modi_data['Winner'].value_counts().sort_values(ascending=False)[0:4])"
   ]
  },
  {
   "cell_type": "markdown",
   "id": "27f951d9",
   "metadata": {},
   "source": [
    "## Q8. Which fighter has the most wins in their own weight class ?"
   ]
  },
  {
   "cell_type": "code",
   "execution_count": 38,
   "id": "a1120826",
   "metadata": {},
   "outputs": [
    {
     "name": "stdout",
     "output_type": "stream",
     "text": [
      "               Weight_Class              Winner  Wins\n",
      "7              Bantamweight   Aljamain Sterling    14\n",
      "195            Catch Weight        Casey Kenney     2\n",
      "400           Featherweight        Max Holloway    20\n",
      "505               Flyweight  Demetrious Johnson    14\n",
      "587             Heavyweight     Andrei Arlovski    24\n",
      "830       Light Heavyweight           Jon Jones    20\n",
      "1065            Lightweight          Jim Miller    23\n",
      "1443           Middleweight     Michael Bisping    16\n",
      "1539            Open Weight          Dan Severn     9\n",
      "1574      Super Heavyweight        Josh Barnett     1\n",
      "1802           Welterweight          Neil Magny    21\n",
      "1907   Women's Bantamweight        Amanda Nunes    13\n",
      "1975  Women's Featherweight        Norma Dumont     5\n",
      "2006      Women's Flyweight   Katlyn Chookagian     9\n",
      "2056    Women's Strawweight         Angela Hill    10\n"
     ]
    }
   ],
   "source": [
    "most_wins_by_weight_class = modi_data.groupby(['Weight_Class', 'Winner'])['Winner'].count().reset_index(name='Wins')\n",
    "\n",
    "most_wins_by_weight_class = most_wins_by_weight_class.loc[most_wins_by_weight_class.groupby('Weight_Class')['Wins'].idxmax()]\n",
    "\n",
    "print(most_wins_by_weight_class)"
   ]
  },
  {
   "cell_type": "markdown",
   "id": "16f11c48",
   "metadata": {},
   "source": [
    "## Q9. Which event saw the most submissions ?"
   ]
  },
  {
   "cell_type": "code",
   "execution_count": 39,
   "id": "8b4dcad1",
   "metadata": {},
   "outputs": [
    {
     "name": "stdout",
     "output_type": "stream",
     "text": [
      "Event Name with most submission wins: UFC 2 on 1994-03-11 00:00:00\n"
     ]
    }
   ],
   "source": [
    "sub_df = modi_data[modi_data['Method'].str.startswith('SUB')]\n",
    "\n",
    "# Group by 'Event Name' and 'Date' and count the occurrences\n",
    "count_df = sub_df.groupby(['Event Name', 'Date']).size().reset_index(name='Count')\n",
    "\n",
    "# Find the combination with the maximum count\n",
    "max_count_combination = count_df.loc[count_df['Count'].idxmax()]\n",
    "\n",
    "print(\"Event Name with most submission wins:\", max_count_combination['Event Name'],\"on\",max_count_combination['Date'])"
   ]
  },
  {
   "cell_type": "markdown",
   "id": "2313d4a2",
   "metadata": {},
   "source": [
    "## Q10. Which event saw the most knockouts ?"
   ]
  },
  {
   "cell_type": "code",
   "execution_count": 40,
   "id": "713ae871",
   "metadata": {},
   "outputs": [
    {
     "name": "stdout",
     "output_type": "stream",
     "text": [
      "Event Name with most SUB wins: UFC 199 on 2016-06-04 00:00:00\n"
     ]
    }
   ],
   "source": [
    "sub_df = modi_data[modi_data['Method'].str.startswith('KO/TKO')]\n",
    "\n",
    "# Group by 'Event Name' and 'Date' and count the occurrences\n",
    "count_df = sub_df.groupby(['Event Name', 'Date']).size().reset_index(name='Count')\n",
    "\n",
    "# Find the combination with the maximum count\n",
    "max_count_combination = count_df.loc[count_df['Count'].idxmax()]\n",
    "\n",
    "print(\"Event Name with most SUB wins:\", max_count_combination['Event Name'],\"on\",max_count_combination['Date'])"
   ]
  },
  {
   "cell_type": "markdown",
   "id": "435e69ab",
   "metadata": {},
   "source": [
    "## Q11. Which venues have hosted the most events ?"
   ]
  },
  {
   "cell_type": "code",
   "execution_count": 41,
   "id": "b7795cd0",
   "metadata": {},
   "outputs": [
    {
     "data": {
      "text/plain": [
       "Las Vegas, Nevada, USA                        2411\n",
       "Abu Dhabi, Abu Dhabi, United Arab Emirates     196\n",
       "London, England, United Kingdom                170\n",
       "Houston, Texas, USA                            108\n",
       "Newark, New Jersey, USA                        102\n",
       "Name: Location, dtype: int64"
      ]
     },
     "execution_count": 41,
     "metadata": {},
     "output_type": "execute_result"
    }
   ],
   "source": [
    "modi_data['Location'].value_counts().sort_values(ascending=False).head(5)"
   ]
  },
  {
   "cell_type": "markdown",
   "id": "2c6a67d7",
   "metadata": {},
   "source": [
    "## Q12. Which venue has hosted the most knockouts ?"
   ]
  },
  {
   "cell_type": "code",
   "execution_count": 42,
   "id": "cfbbfdc8",
   "metadata": {},
   "outputs": [
    {
     "name": "stdout",
     "output_type": "stream",
     "text": [
      "Location with the most knockout wins: Las Vegas, Nevada, USA\n"
     ]
    }
   ],
   "source": [
    "# Filter rows where Method starts with 'KO/TKO'\n",
    "ko_tko_df = modi_data[modi_data['Method'].str.startswith('KO/TKO')]\n",
    "\n",
    "# Group by 'Location' and count the occurrences\n",
    "count_df = ko_tko_df.groupby('Location').size().reset_index(name='Count')\n",
    "\n",
    "# Find the location with the maximum count\n",
    "max_count_location = count_df.loc[count_df['Count'].idxmax()]\n",
    "\n",
    "print(\"Location with the most knockout wins:\", max_count_location['Location'])"
   ]
  },
  {
   "cell_type": "markdown",
   "id": "d17891b5",
   "metadata": {},
   "source": [
    "## Q13. Which venue has hosted the most submissions ?"
   ]
  },
  {
   "cell_type": "code",
   "execution_count": 43,
   "id": "c037d923",
   "metadata": {},
   "outputs": [
    {
     "name": "stdout",
     "output_type": "stream",
     "text": [
      "Location with most submission wins : Las Vegas, Nevada, USA\n"
     ]
    }
   ],
   "source": [
    "sub_df1 = modi_data[modi_data['Method'].str.startswith('SUB')]\n",
    "\n",
    "# Group by 'Location' and count the occurrences\n",
    "count_by_location1 = sub_df1.groupby('Location').size()\n",
    "\n",
    "# Find the location with the most SUB methods\n",
    "location_with_most_sub1 = count_by_location1.idxmax()\n",
    "\n",
    "print(\"Location with most submission wins :\", location_with_most_sub1)"
   ]
  },
  {
   "cell_type": "markdown",
   "id": "a66eae24",
   "metadata": {},
   "source": [
    "## Q14. Which venue has hosted the most decision wins ?"
   ]
  },
  {
   "cell_type": "code",
   "execution_count": 44,
   "id": "6c9d17a4",
   "metadata": {},
   "outputs": [
    {
     "name": "stdout",
     "output_type": "stream",
     "text": [
      "Location with most DEC Method values: Las Vegas, Nevada, USA\n"
     ]
    }
   ],
   "source": [
    "dec_df = modi_data[modi_data['Method'].str.contains('DEC')]\n",
    "\n",
    "# Group by 'Location' and count the occurrences\n",
    "count_df = dec_df.groupby('Location').size().reset_index(name='Count')\n",
    "\n",
    "# Find the location with the maximum count\n",
    "max_count_location = count_df.loc[count_df['Count'].idxmax()]\n",
    "\n",
    "print(\"Location with most DEC Method values:\", max_count_location['Location'])"
   ]
  },
  {
   "cell_type": "markdown",
   "id": "448ab5f7",
   "metadata": {},
   "source": [
    "## Q15. Which fighter has lost the most by submission ?"
   ]
  },
  {
   "cell_type": "code",
   "execution_count": 45,
   "id": "492fbcb6",
   "metadata": {},
   "outputs": [
    {
     "name": "stdout",
     "output_type": "stream",
     "text": [
      "Fighter who has lost the most by submission : Clay Guida\n"
     ]
    }
   ],
   "source": [
    "sub_df = modi_data[modi_data['Method'].str.startswith('SUB')]\n",
    "\n",
    "# Group by 'Loser' and count the occurrences\n",
    "count_df = sub_df.groupby('Loser').size().reset_index(name='Count')\n",
    "\n",
    "# Find the Loser who has lost the most by a method starting with 'SUB'\n",
    "most_lost_sub_loser = count_df.loc[count_df['Count'].idxmax()]\n",
    "\n",
    "print(\"Fighter who has lost the most by submission :\", most_lost_sub_loser['Loser'])"
   ]
  },
  {
   "cell_type": "markdown",
   "id": "7d3f96f8",
   "metadata": {},
   "source": [
    "## Q16. Which fighter has lost the most by knockout ?"
   ]
  },
  {
   "cell_type": "code",
   "execution_count": 46,
   "id": "0ee7abdc",
   "metadata": {},
   "outputs": [
    {
     "name": "stdout",
     "output_type": "stream",
     "text": [
      "Fighter who has lost the most by knockout : Alistair Overeem\n"
     ]
    }
   ],
   "source": [
    "kto_df = modi_data[modi_data['Method'].str.startswith('KO/TKO')]\n",
    "\n",
    "# Group by 'Loser' and count the occurrences\n",
    "count_df = kto_df.groupby('Loser').size().reset_index(name='Count')\n",
    "\n",
    "# Find the Loser who has lost the most by a method starting with 'SUB'\n",
    "most_lost_sub_loser = count_df.loc[count_df['Count'].idxmax()]\n",
    "\n",
    "print(\"Fighter who has lost the most by knockout :\", most_lost_sub_loser['Loser'])"
   ]
  },
  {
   "cell_type": "markdown",
   "id": "c5de5fb8",
   "metadata": {},
   "source": [
    "## Q17. Which fighter lost the most by decision ?"
   ]
  },
  {
   "cell_type": "code",
   "execution_count": 47,
   "id": "576a6e36",
   "metadata": {},
   "outputs": [
    {
     "name": "stdout",
     "output_type": "stream",
     "text": [
      "Fighter who has lost the most by decision : Jeremy Stephens\n"
     ]
    }
   ],
   "source": [
    "dec_df = modi_data[modi_data['Method'].str.contains('DEC')]\n",
    "\n",
    "# Group by 'Loser' and count the occurrences\n",
    "count_df = dec_df.groupby('Loser').size().reset_index(name='Count')\n",
    "\n",
    "# Find the Loser who has lost the most by a method starting with 'SUB'\n",
    "most_dec_loser = count_df.loc[count_df['Count'].idxmax()]\n",
    "\n",
    "print(\"Fighter who has lost the most by decision :\", most_dec_loser['Loser'])"
   ]
  },
  {
   "cell_type": "markdown",
   "id": "f51ed07f",
   "metadata": {},
   "source": [
    "## Q20. Which fighter lost the most by split decision ?"
   ]
  },
  {
   "cell_type": "code",
   "execution_count": 48,
   "id": "011aff43",
   "metadata": {},
   "outputs": [
    {
     "name": "stdout",
     "output_type": "stream",
     "text": [
      "Fighter who has lost the most by split decision : Angela Hill\n"
     ]
    }
   ],
   "source": [
    "dec_df = modi_data[modi_data['Method'].str.contains('S-DEC')]\n",
    "\n",
    "# Group by 'Loser' and count the occurrences\n",
    "count_df = dec_df.groupby('Loser').size().reset_index(name='Count')\n",
    "\n",
    "# Find the Loser who has lost the most by a method starting with 'SUB'\n",
    "most_sdec_loser = count_df.loc[count_df['Count'].idxmax()]\n",
    "\n",
    "print(\"Fighter who has lost the most by split decision :\", most_sdec_loser['Loser'])"
   ]
  },
  {
   "cell_type": "markdown",
   "id": "693c7cd2",
   "metadata": {},
   "source": [
    "## Q19. Which fighter has the most wins by knockout ?"
   ]
  },
  {
   "cell_type": "code",
   "execution_count": 49,
   "id": "c2d42ba7",
   "metadata": {},
   "outputs": [
    {
     "name": "stdout",
     "output_type": "stream",
     "text": [
      "Fighter who has won the most by knockout : Derrick Lewis\n"
     ]
    }
   ],
   "source": [
    "kto_df = modi_data[modi_data['Method'].str.startswith('KO/TKO')]\n",
    "\n",
    "# Group by 'Loser' and count the occurrences\n",
    "count_df = kto_df.groupby('Winner').size().reset_index(name='Count')\n",
    "\n",
    "# Find the Loser who has lost the most by a method starting with 'SUB'\n",
    "most_ko_winner = count_df.loc[count_df['Count'].idxmax()]\n",
    "\n",
    "print(\"Fighter who has won the most by knockout :\", most_ko_winner['Winner'])"
   ]
  },
  {
   "cell_type": "markdown",
   "id": "38a6b93f",
   "metadata": {},
   "source": [
    "## Q20. Which fighter has the most wins by submission ?"
   ]
  },
  {
   "cell_type": "code",
   "execution_count": 50,
   "id": "3bc876bb",
   "metadata": {},
   "outputs": [
    {
     "name": "stdout",
     "output_type": "stream",
     "text": [
      "Fighter who has won the most by knockout : Charles Oliveira\n"
     ]
    }
   ],
   "source": [
    "sub_df = modi_data[modi_data['Method'].str.startswith('SUB')]\n",
    "\n",
    "# Group by 'Loser' and count the occurrences\n",
    "count_df = sub_df.groupby('Winner').size().reset_index(name='Count')\n",
    "\n",
    "# Find the Loser who has lost the most by a method starting with 'SUB'\n",
    "most_sub_winner = count_df.loc[count_df['Count'].idxmax()]\n",
    "\n",
    "print(\"Fighter who has won the most by knockout :\", most_sub_winner['Winner'])"
   ]
  },
  {
   "cell_type": "markdown",
   "id": "a5bccbba",
   "metadata": {},
   "source": [
    "## Q21. Which fighter has the most wins by decision ?"
   ]
  },
  {
   "cell_type": "code",
   "execution_count": 51,
   "id": "61e3d771",
   "metadata": {},
   "outputs": [
    {
     "name": "stdout",
     "output_type": "stream",
     "text": [
      "Fighter who has won the most by decision : Neil Magny\n"
     ]
    }
   ],
   "source": [
    "dec_df = modi_data[modi_data['Method'].str.contains('DEC')]\n",
    "\n",
    "# Group by 'Loser' and count the occurrences\n",
    "count_df = dec_df.groupby('Winner').size().reset_index(name='Count')\n",
    "\n",
    "# Find the Loser who has lost the most by a method starting with 'SUB'\n",
    "most_dec_winner = count_df.loc[count_df['Count'].idxmax()]\n",
    "\n",
    "print(\"Fighter who has won the most by decision :\", most_dec_winner['Winner'])"
   ]
  },
  {
   "cell_type": "markdown",
   "id": "26e7ee63",
   "metadata": {},
   "source": [
    "## Q22. Which fighter has the most wins by split decision ?"
   ]
  },
  {
   "cell_type": "code",
   "execution_count": 52,
   "id": "e40d1cb8",
   "metadata": {},
   "outputs": [
    {
     "name": "stdout",
     "output_type": "stream",
     "text": [
      "Fighter who has won the most by split decision : Gleison Tibau\n"
     ]
    }
   ],
   "source": [
    "dec_df = modi_data[modi_data['Method'].str.contains('S-DEC')]\n",
    "\n",
    "# Group by 'Loser' and count the occurrences\n",
    "count_df = dec_df.groupby('Winner').size().reset_index(name='Count')\n",
    "\n",
    "# Find the Loser who has lost the most by a method starting with 'SUB'\n",
    "most_sdec_winner = count_df.loc[count_df['Count'].idxmax()]\n",
    "\n",
    "print(\"Fighter who has won the most by split decision :\", most_sdec_winner['Winner'])"
   ]
  },
  {
   "cell_type": "markdown",
   "id": "ba1695ad",
   "metadata": {},
   "source": [
    "## Q23. Which fighter has the most wins by Rear Naked Choke ?"
   ]
  },
  {
   "cell_type": "code",
   "execution_count": 53,
   "id": "39c05e36",
   "metadata": {},
   "outputs": [
    {
     "name": "stdout",
     "output_type": "stream",
     "text": [
      "Fighter who has won the most by RNC: Demian Maia\n"
     ]
    }
   ],
   "source": [
    "rnc_df = modi_data[modi_data['Method'].str.contains('Rear Naked Choke')]\n",
    "\n",
    "# Group by 'Loser' and count the occurrences\n",
    "count_df = rnc_df.groupby('Winner').size().reset_index(name='Count')\n",
    "\n",
    "# Find the Loser who has lost the most by a method starting with 'SUB'\n",
    "most_rnc_winner = count_df.loc[count_df['Count'].idxmax()]\n",
    "\n",
    "print(\"Fighter who has won the most by RNC:\", most_rnc_winner['Winner'])"
   ]
  },
  {
   "cell_type": "markdown",
   "id": "e04fb9fe",
   "metadata": {},
   "source": [
    "## Q24. Which fighter has the most wins by Armbar ?"
   ]
  },
  {
   "cell_type": "code",
   "execution_count": 54,
   "id": "ee47d0a3",
   "metadata": {},
   "outputs": [
    {
     "name": "stdout",
     "output_type": "stream",
     "text": [
      "Fighter who has won the most by Armbar: Demetrious Johnson\n"
     ]
    }
   ],
   "source": [
    "ab_df = modi_data[modi_data['Method'].str.contains('Armbar')]\n",
    "\n",
    "# Group by 'Loser' and count the occurrences\n",
    "count_df = ab_df.groupby('Winner').size().reset_index(name='Count')\n",
    "\n",
    "# Find the Loser who has lost the most by a method starting with 'SUB'\n",
    "most_ab_winner = count_df.loc[count_df['Count'].idxmax()]\n",
    "\n",
    "print(\"Fighter who has won the most by Armbar:\", most_ab_winner['Winner'])"
   ]
  },
  {
   "cell_type": "markdown",
   "id": "96e37daa",
   "metadata": {},
   "source": [
    "## Q25. Which month has seen the most submission wins ?"
   ]
  },
  {
   "cell_type": "code",
   "execution_count": 55,
   "id": "5cc0d382",
   "metadata": {},
   "outputs": [
    {
     "name": "stdout",
     "output_type": "stream",
     "text": [
      "Month of the year that has seen the most submissions : December\n"
     ]
    }
   ],
   "source": [
    "# Convert 'Date' column to datetime with '%Y-%m-%d' format\n",
    "#modi_data['Date'] = pd.to_datetime(modi_data['Date'], format='%Y-%m-%d')\n",
    "\n",
    "# Extract month from 'Date' column\n",
    "#modi_data['Month'] = modi_data['Date'].dt.month\n",
    "\n",
    "# Filter rows where Method starts with 'SUB'\n",
    "sub_df = modi_data[modi_data['Method'].str.startswith('SUB')]\n",
    "\n",
    "# Group by 'Month' and count the occurrences\n",
    "count_df = sub_df.groupby('Month').size().reset_index(name='Count')\n",
    "\n",
    "# Find the month with the most Method values beginning with 'SUB'\n",
    "most_sub_month = count_df.loc[count_df['Count'].idxmax()]\n",
    "\n",
    "print(\"Month of the year that has seen the most submissions :\", calendar.month_name[most_sub_month['Month']])"
   ]
  },
  {
   "cell_type": "markdown",
   "id": "eef154fc",
   "metadata": {},
   "source": [
    "## Q26. Which month has seen the most knockout wins ?"
   ]
  },
  {
   "cell_type": "code",
   "execution_count": 56,
   "id": "605ae407",
   "metadata": {},
   "outputs": [
    {
     "name": "stdout",
     "output_type": "stream",
     "text": [
      "Month of the year that has seen the most knockouts : July\n"
     ]
    }
   ],
   "source": [
    "# Filter rows where Method starts with 'SUB'\n",
    "sub_df = modi_data[modi_data['Method'].str.startswith('KO/TKO')]\n",
    "\n",
    "# Group by 'Month' and count the occurrences\n",
    "count_df = sub_df.groupby('Month').size().reset_index(name='Count')\n",
    "\n",
    "# Find the month with the most Method values beginning with 'SUB'\n",
    "most_sub_month = count_df.loc[count_df['Count'].idxmax()]\n",
    "\n",
    "print(\"Month of the year that has seen the most knockouts :\", calendar.month_name[most_sub_month['Month']])"
   ]
  },
  {
   "cell_type": "markdown",
   "id": "9e37d4df",
   "metadata": {},
   "source": [
    "## Q27. What are the number of knockouts each year ?"
   ]
  },
  {
   "cell_type": "code",
   "execution_count": 57,
   "id": "e5bf51f0",
   "metadata": {},
   "outputs": [
    {
     "name": "stdout",
     "output_type": "stream",
     "text": [
      "Year\n",
      "1994     10\n",
      "1995     11\n",
      "1996     23\n",
      "1997     12\n",
      "1998      7\n",
      "1999     26\n",
      "2000     14\n",
      "2001     17\n",
      "2002     29\n",
      "2003     18\n",
      "2004     18\n",
      "2005     39\n",
      "2006     59\n",
      "2007     53\n",
      "2008     85\n",
      "2009     75\n",
      "2010     69\n",
      "2011     95\n",
      "2012    105\n",
      "2013    130\n",
      "2014    152\n",
      "2015    155\n",
      "2016    153\n",
      "2017    146\n",
      "2018    151\n",
      "2019    153\n",
      "2020    139\n",
      "2021    171\n",
      "2022    171\n",
      "2023    150\n",
      "dtype: int64\n"
     ]
    }
   ],
   "source": [
    "# Filter rows where 'Method' starts with 'KO/TKO' and count occurrences for each year\n",
    "result = modi_data[modi_data['Method'].str.startswith('KO/TKO')].groupby('Year').size()\n",
    "\n",
    "print(result)"
   ]
  },
  {
   "cell_type": "markdown",
   "id": "ffa47d9a",
   "metadata": {},
   "source": [
    "## Q27. What are the number of submissions each year ?"
   ]
  },
  {
   "cell_type": "code",
   "execution_count": 58,
   "id": "e1e531a8",
   "metadata": {},
   "outputs": [
    {
     "name": "stdout",
     "output_type": "stream",
     "text": [
      "Year\n",
      "1994    19\n",
      "1995    18\n",
      "1996     9\n",
      "1997    18\n",
      "1998     7\n",
      "1999     7\n",
      "2000    11\n",
      "2001     9\n",
      "2002     8\n",
      "2003     8\n",
      "2004    11\n",
      "2005    21\n",
      "2006    47\n",
      "2007    54\n",
      "2008    51\n",
      "2009    46\n",
      "2010    59\n",
      "2011    55\n",
      "2012    70\n",
      "2013    67\n",
      "2014    95\n",
      "2015    88\n",
      "2016    89\n",
      "2017    80\n",
      "2018    90\n",
      "2019    80\n",
      "2020    82\n",
      "2021    73\n",
      "2022    98\n",
      "2023    98\n",
      "dtype: int64\n"
     ]
    }
   ],
   "source": [
    "print(modi_data[modi_data['Method'].str.startswith('SUB')].groupby('Year').size())"
   ]
  },
  {
   "cell_type": "markdown",
   "id": "aadc21b6",
   "metadata": {},
   "source": [
    "## Q28. What are the number of decision victories each year ?"
   ]
  },
  {
   "cell_type": "code",
   "execution_count": 59,
   "id": "21efee90",
   "metadata": {},
   "outputs": [
    {
     "name": "stdout",
     "output_type": "stream",
     "text": [
      "Year\n",
      "1995      3\n",
      "1996      4\n",
      "1997      8\n",
      "1998      7\n",
      "1999     11\n",
      "2000     17\n",
      "2001     12\n",
      "2002     15\n",
      "2003     14\n",
      "2004     10\n",
      "2005     19\n",
      "2006     52\n",
      "2007     62\n",
      "2008     64\n",
      "2009     92\n",
      "2010    124\n",
      "2011    147\n",
      "2012    158\n",
      "2013    179\n",
      "2014    247\n",
      "2015    221\n",
      "2016    248\n",
      "2017    224\n",
      "2018    229\n",
      "2019    277\n",
      "2020    226\n",
      "2021    256\n",
      "2022    239\n",
      "2023    239\n",
      "dtype: int64\n"
     ]
    }
   ],
   "source": [
    "print(modi_data[modi_data['Method'].str.contains('DEC')].groupby('Year').size())"
   ]
  },
  {
   "cell_type": "code",
   "execution_count": 60,
   "id": "b7af9ed2",
   "metadata": {},
   "outputs": [],
   "source": [
    "df = modi_data.copy()"
   ]
  },
  {
   "cell_type": "markdown",
   "id": "16805f0a",
   "metadata": {},
   "source": [
    "## Q29. How often does number of significant strikes landed indicate a knockout victory?"
   ]
  },
  {
   "cell_type": "code",
   "execution_count": null,
   "id": "7da9c311",
   "metadata": {},
   "outputs": [],
   "source": []
  },
  {
   "cell_type": "code",
   "execution_count": 61,
   "id": "1654317e",
   "metadata": {},
   "outputs": [
    {
     "name": "stdout",
     "output_type": "stream",
     "text": [
      "Number of times having an advantage in number of strikes landed resulted in KO/TKO method:\n",
      " 2071  times for 2436 fights which  ended via KO/TKO, \n",
      " i.e. 85.02 %\n"
     ]
    }
   ],
   "source": [
    "def has_strikes_advantage(row):\n",
    "    if row['Winner'] == row['Fighter 1']:\n",
    "        return row['Fighter_1_STR'] > row['Fighter_2_STR']\n",
    "    else:\n",
    "        return row['Fighter_2_STR'] > row['Fighter_1_STR']\n",
    "\n",
    "# Filter rows where Method begins with 'KO/TKO'\n",
    "ko_tko_df = df[df['Method'].str.startswith('KO/TKO')]\n",
    "\n",
    "# Count occurrences where winning fighter has an advantage in strikes landed\n",
    "advantage_count = ko_tko_df.apply(has_strikes_advantage, axis=1).sum()\n",
    "\n",
    "total_ko = len(ktkos)\n",
    "\n",
    "percent = advantage_count/total_ko*100\n",
    "\n",
    "print(\"Number of times having an advantage in number of strikes landed resulted in KO/TKO method:\\n\", advantage_count,\\\n",
    "      \" times for\",len(ktkos),\"fights which  ended via KO/TKO, \\n i.e.\",round(percent,2),\"%\")"
   ]
  },
  {
   "cell_type": "code",
   "execution_count": null,
   "id": "b0773945",
   "metadata": {},
   "outputs": [],
   "source": []
  }
 ],
 "metadata": {
  "kernelspec": {
   "display_name": "Python 3 (ipykernel)",
   "language": "python",
   "name": "python3"
  },
  "language_info": {
   "codemirror_mode": {
    "name": "ipython",
    "version": 3
   },
   "file_extension": ".py",
   "mimetype": "text/x-python",
   "name": "python",
   "nbconvert_exporter": "python",
   "pygments_lexer": "ipython3",
   "version": "3.12.2"
  }
 },
 "nbformat": 4,
 "nbformat_minor": 5
}
